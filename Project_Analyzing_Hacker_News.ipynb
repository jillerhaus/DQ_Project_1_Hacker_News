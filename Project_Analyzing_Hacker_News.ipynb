{
 "cells": [
  {
   "cell_type": "markdown",
   "metadata": {
    "collapsed": true
   },
   "source": [
    "# Hacker News Analysis\n",
    "\n",
    "Here we will analize data from the HN website. The goals are to compare the Ask HN and Show HN posts and find out which of them has more engagemant as well as at whate time of the day the engagement of a post is ideal."
   ]
  },
  {
   "cell_type": "code",
   "execution_count": 1,
   "metadata": {
    "collapsed": false
   },
   "outputs": [
    {
     "name": "stdout",
     "output_type": "stream",
     "text": [
      "[['id', 'title', 'url', 'num_points', 'num_comments', 'author', 'created_at'], ['12224879', 'Interactive Dynamic Video', 'http://www.interactivedynamicvideo.com/', '386', '52', 'ne0phyte', '8/4/2016 11:52'], ['10975351', 'How to Use Open Source and Shut the Fuck Up at the Same Time', 'http://hueniverse.com/2016/01/26/how-to-use-open-source-and-shut-the-fuck-up-at-the-same-time/', '39', '10', 'josep2', '1/26/2016 19:30'], ['11964716', \"Florida DJs May Face Felony for April Fools' Water Joke\", 'http://www.thewire.com/entertainment/2013/04/florida-djs-april-fools-water-joke/63798/', '2', '1', 'vezycash', '6/23/2016 22:20'], ['11919867', 'Technology ventures: From Idea to Enterprise', 'https://www.amazon.com/Technology-Ventures-Enterprise-Thomas-Byers/dp/0073523429', '3', '1', 'hswarna', '6/17/2016 0:01']]\n"
     ]
    }
   ],
   "source": [
    "open_file = open('hacker_news.csv')\n",
    "from csv import reader\n",
    "read_file = reader(open_file)\n",
    "hn = list(read_file)\n",
    "print(hn[:5])"
   ]
  },
  {
   "cell_type": "code",
   "execution_count": 2,
   "metadata": {
    "collapsed": false
   },
   "outputs": [],
   "source": [
    "headers = hn[0]\n",
    "hn = hn[1:]"
   ]
  },
  {
   "cell_type": "code",
   "execution_count": 3,
   "metadata": {
    "collapsed": false
   },
   "outputs": [
    {
     "name": "stdout",
     "output_type": "stream",
     "text": [
      "20100\n",
      "length ask: 1744\n",
      "length show: 1162\n",
      "length other: 17194\n",
      "length total: 20100\n"
     ]
    }
   ],
   "source": [
    "ask_posts = []\n",
    "show_posts = []\n",
    "other_posts = []\n",
    "for row in hn:\n",
    "    title = row[1].lower()\n",
    "    if title.startswith('ask hn'):\n",
    "        ask_posts.append(row)\n",
    "    elif title.startswith('show hn'):\n",
    "        show_posts.append(row)\n",
    "    else:\n",
    "        other_posts.append(row)\n",
    "        \n",
    "print(len(hn))\n",
    "\n",
    "len_ask = (len(ask_posts))\n",
    "len_show = (len(show_posts))\n",
    "len_other =(len(other_posts))\n",
    "\n",
    "print('length ask: ' + str(len_ask))\n",
    "print('length show: ' + str(len_show))\n",
    "print('length other: ' + str(len_other))\n",
    "print('length total: ' + str(len_ask+len_show+len_other))"
   ]
  },
  {
   "cell_type": "code",
   "execution_count": 4,
   "metadata": {
    "collapsed": false
   },
   "outputs": [
    {
     "name": "stdout",
     "output_type": "stream",
     "text": [
      "average comments on ask_posts: 14.038417431192661\n",
      "average comments on show_posts: 10.31669535283993\n"
     ]
    }
   ],
   "source": [
    "total_ask_comments = 0\n",
    "for row in ask_posts:\n",
    "    total_ask_comments += int(row[4])\n",
    "avg_ask_comments = total_ask_comments/len_ask\n",
    "print('average comments on ask_posts: ' + str(avg_ask_comments))\n",
    "\n",
    "\n",
    "total_show_comments = 0\n",
    "for row in show_posts:\n",
    "    total_show_comments += int(row[4])\n",
    "avg_show_comments = total_show_comments/len_show\n",
    "print('average comments on show_posts: ' + str(avg_show_comments))\n",
    "\n"
   ]
  },
  {
   "cell_type": "markdown",
   "metadata": {},
   "source": [
    "# Average Comments\n",
    "\n",
    "In the cell above we can see that the ammount of comments is on average higher for ask posts than show posts. This is most likely due to the fact that most people are not interested in other people's shitty projects. I would also hypothesize, that a notable ammount of comments in the show threats come from people explaining their shitty projects to other people, probably very proudly.\n",
    "\n",
    "Now we'll find out when to ask these questions"
   ]
  },
  {
   "cell_type": "code",
   "execution_count": 45,
   "metadata": {
    "collapsed": false
   },
   "outputs": [
    {
     "name": "stdout",
     "output_type": "stream",
     "text": [
      "Top 5 Hours for Ask Comments\n",
      "15:00:00: 38.59 comments per post.\n",
      "02:00:00: 23.81 comments per post.\n",
      "20:00:00: 21.52 comments per post.\n",
      "16:00:00: 16.80 comments per post.\n",
      "21:00:00: 16.01 comments per post.\n"
     ]
    }
   ],
   "source": [
    "import datetime as dt\n",
    "#moment = ask_posts[4][6]\n",
    "result_list = []\n",
    "for row in ask_posts:\n",
    "    created = row[6]\n",
    "    n_comments = int(row[4])\n",
    "    result_list.append([created,n_comments])\n",
    "\n",
    "    \n",
    "counts_by_hour = {}\n",
    "comments_by_hour = {}\n",
    "for row in result_list:\n",
    "    moment = row[0]\n",
    "    dt_moment = dt.datetime.strptime(moment, '%m/%d/%Y %H:%M')\n",
    "    hour_made = dt_moment.hour\n",
    "    if hour_made not in counts_by_hour:\n",
    "        counts_by_hour[hour_made] = 1\n",
    "        comments_by_hour[hour_made] = row[1]\n",
    "    else:\n",
    "        counts_by_hour[hour_made] += 1\n",
    "        comments_by_hour[hour_made] += row[1]\n",
    "#print(counts_by_hour)\n",
    "#print(comments_by_hour)\n",
    "\n",
    "avg_comments_hour = []\n",
    "for key in comments_by_hour:\n",
    "    avg_comments_hour.append([comments_by_hour[key]/counts_by_hour[key],key])\n",
    "sorted_swap = sorted(avg_comments_hour, reverse = True)\n",
    "print('Top 5 Hours for Ask Comments')\n",
    "\n",
    "for hour in sorted_swap[:5]:\n",
    "    stunde_dumm = str(hour[1])\n",
    "    #print(stunde_dumm)\n",
    "    stunde1 = dt.datetime.strptime(stunde_dumm,'%H')\n",
    "    stunde_duemmer = stunde1.strftime('%H:%M')\n",
    "    #print(stunde_duemmer)\n",
    "    \n",
    "    print('{stunde}:00: {avg:.2f} comments per post.'.format(stunde=stunde_duemmer,avg = hour[0]))\n",
    "    \n",
    "    \n",
    "    \n",
    "    \n",
    "    \n",
    "    \n",
    "    #dt_moment = dt.datetime.strptime(moment, '%m/%d/%Y %H:%M')\n",
    "    #print(dt_moment.hour)\n"
   ]
  },
  {
   "cell_type": "markdown",
   "metadata": {},
   "source": [
    "So the results of this study were, that if I want answers to questions on the hacker forum, I should make posts at 21:00, 8:00 , 2:00, 22:00 or 3:00 German time. Makes sense. Definitely improves my life knowing this information"
   ]
  }
 ],
 "metadata": {
  "kernelspec": {
   "display_name": "Python 3",
   "language": "python",
   "name": "python3"
  },
  "language_info": {
   "codemirror_mode": {
    "name": "ipython",
    "version": 3
   },
   "file_extension": ".py",
   "mimetype": "text/x-python",
   "name": "python",
   "nbconvert_exporter": "python",
   "pygments_lexer": "ipython3",
   "version": "3.4.3"
  }
 },
 "nbformat": 4,
 "nbformat_minor": 2
}
